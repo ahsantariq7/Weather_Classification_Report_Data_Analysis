{
 "cells": [
  {
   "cell_type": "code",
   "execution_count": 1,
   "id": "2b131f78",
   "metadata": {
    "execution": {
     "iopub.execute_input": "2023-05-15T22:07:47.939253Z",
     "iopub.status.busy": "2023-05-15T22:07:47.938809Z",
     "iopub.status.idle": "2023-05-15T22:07:50.218593Z",
     "shell.execute_reply": "2023-05-15T22:07:50.217225Z"
    },
    "papermill": {
     "duration": 2.295623,
     "end_time": "2023-05-15T22:07:50.221724",
     "exception": false,
     "start_time": "2023-05-15T22:07:47.926101",
     "status": "completed"
    },
    "tags": []
   },
   "outputs": [
    {
     "name": "stderr",
     "output_type": "stream",
     "text": [
      "/opt/conda/lib/python3.10/site-packages/scipy/__init__.py:146: UserWarning: A NumPy version >=1.16.5 and <1.23.0 is required for this version of SciPy (detected version 1.23.5\n",
      "  warnings.warn(f\"A NumPy version >={np_minversion} and <{np_maxversion}\"\n"
     ]
    }
   ],
   "source": [
    "import numpy as np\n",
    "import pandas as pd\n",
    "import matplotlib.pyplot as plt\n",
    "import seaborn as sns\n",
    "\n",
    "from sklearn.preprocessing import LabelEncoder, StandardScaler\n",
    "from sklearn.model_selection import train_test_split, GridSearchCV\n",
    "from sklearn.feature_selection import VarianceThreshold, SelectFromModel\n",
    "from sklearn.utils import compute_class_weight\n",
    "from sklearn.metrics import ConfusionMatrixDisplay, classification_report\n",
    "from sklearn.linear_model import LogisticRegression\n",
    "from sklearn.ensemble import GradientBoostingClassifier\n",
    "\n",
    "import warnings\n",
    "warnings.filterwarnings(\"ignore\")"
   ]
  },
  {
   "cell_type": "markdown",
   "id": "ed1ec376",
   "metadata": {
    "papermill": {
     "duration": 0.009572,
     "end_time": "2023-05-15T22:07:50.241584",
     "exception": false,
     "start_time": "2023-05-15T22:07:50.232012",
     "status": "completed"
    },
    "tags": []
   },
   "source": [
    "## Load data"
   ]
  },
  {
   "cell_type": "code",
   "execution_count": 2,
   "id": "031ea816",
   "metadata": {
    "execution": {
     "iopub.execute_input": "2023-05-15T22:07:50.263150Z",
     "iopub.status.busy": "2023-05-15T22:07:50.262705Z",
     "iopub.status.idle": "2023-05-15T22:07:50.321948Z",
     "shell.execute_reply": "2023-05-15T22:07:50.320893Z"
    },
    "papermill": {
     "duration": 0.073166,
     "end_time": "2023-05-15T22:07:50.324711",
     "exception": false,
     "start_time": "2023-05-15T22:07:50.251545",
     "status": "completed"
    },
    "tags": []
   },
   "outputs": [],
   "source": [
    "df = pd.read_csv(\"seattle-weather.csv\",index_col=\"date\",parse_dates=True)\n",
    "df.index.freq = \"D\""
   ]
  },
  {
   "cell_type": "code",
   "execution_count": 3,
   "id": "281a6f63",
   "metadata": {
    "execution": {
     "iopub.execute_input": "2023-05-15T22:07:50.348284Z",
     "iopub.status.busy": "2023-05-15T22:07:50.347881Z",
     "iopub.status.idle": "2023-05-15T22:07:50.383325Z",
     "shell.execute_reply": "2023-05-15T22:07:50.382116Z"
    },
    "papermill": {
     "duration": 0.050658,
     "end_time": "2023-05-15T22:07:50.386037",
     "exception": false,
     "start_time": "2023-05-15T22:07:50.335379",
     "status": "completed"
    },
    "tags": []
   },
   "outputs": [
    {
     "data": {
      "text/html": [
       "<div>\n",
       "<style scoped>\n",
       "    .dataframe tbody tr th:only-of-type {\n",
       "        vertical-align: middle;\n",
       "    }\n",
       "\n",
       "    .dataframe tbody tr th {\n",
       "        vertical-align: top;\n",
       "    }\n",
       "\n",
       "    .dataframe thead th {\n",
       "        text-align: right;\n",
       "    }\n",
       "</style>\n",
       "<table border=\"1\" class=\"dataframe\">\n",
       "  <thead>\n",
       "    <tr style=\"text-align: right;\">\n",
       "      <th></th>\n",
       "      <th>precipitation</th>\n",
       "      <th>temp_max</th>\n",
       "      <th>temp_min</th>\n",
       "      <th>wind</th>\n",
       "      <th>weather</th>\n",
       "    </tr>\n",
       "    <tr>\n",
       "      <th>date</th>\n",
       "      <th></th>\n",
       "      <th></th>\n",
       "      <th></th>\n",
       "      <th></th>\n",
       "      <th></th>\n",
       "    </tr>\n",
       "  </thead>\n",
       "  <tbody>\n",
       "    <tr>\n",
       "      <th>2012-01-01</th>\n",
       "      <td>0.0</td>\n",
       "      <td>12.8</td>\n",
       "      <td>5.0</td>\n",
       "      <td>4.7</td>\n",
       "      <td>drizzle</td>\n",
       "    </tr>\n",
       "    <tr>\n",
       "      <th>2012-01-02</th>\n",
       "      <td>10.9</td>\n",
       "      <td>10.6</td>\n",
       "      <td>2.8</td>\n",
       "      <td>4.5</td>\n",
       "      <td>rain</td>\n",
       "    </tr>\n",
       "    <tr>\n",
       "      <th>2012-01-03</th>\n",
       "      <td>0.8</td>\n",
       "      <td>11.7</td>\n",
       "      <td>7.2</td>\n",
       "      <td>2.3</td>\n",
       "      <td>rain</td>\n",
       "    </tr>\n",
       "    <tr>\n",
       "      <th>2012-01-04</th>\n",
       "      <td>20.3</td>\n",
       "      <td>12.2</td>\n",
       "      <td>5.6</td>\n",
       "      <td>4.7</td>\n",
       "      <td>rain</td>\n",
       "    </tr>\n",
       "    <tr>\n",
       "      <th>2012-01-05</th>\n",
       "      <td>1.3</td>\n",
       "      <td>8.9</td>\n",
       "      <td>2.8</td>\n",
       "      <td>6.1</td>\n",
       "      <td>rain</td>\n",
       "    </tr>\n",
       "  </tbody>\n",
       "</table>\n",
       "</div>"
      ],
      "text/plain": [
       "            precipitation  temp_max  temp_min  wind  weather\n",
       "date                                                        \n",
       "2012-01-01            0.0      12.8       5.0   4.7  drizzle\n",
       "2012-01-02           10.9      10.6       2.8   4.5     rain\n",
       "2012-01-03            0.8      11.7       7.2   2.3     rain\n",
       "2012-01-04           20.3      12.2       5.6   4.7     rain\n",
       "2012-01-05            1.3       8.9       2.8   6.1     rain"
      ]
     },
     "execution_count": 3,
     "metadata": {},
     "output_type": "execute_result"
    }
   ],
   "source": [
    "df.head()"
   ]
  },
  {
   "cell_type": "markdown",
   "id": "98cb7aa8",
   "metadata": {
    "papermill": {
     "duration": 0.009906,
     "end_time": "2023-05-15T22:07:50.406223",
     "exception": false,
     "start_time": "2023-05-15T22:07:50.396317",
     "status": "completed"
    },
    "tags": []
   },
   "source": [
    "## Add features"
   ]
  },
  {
   "cell_type": "code",
   "execution_count": 4,
   "id": "22453d37",
   "metadata": {
    "execution": {
     "iopub.execute_input": "2023-05-15T22:07:50.429005Z",
     "iopub.status.busy": "2023-05-15T22:07:50.427909Z",
     "iopub.status.idle": "2023-05-15T22:07:50.439285Z",
     "shell.execute_reply": "2023-05-15T22:07:50.438233Z"
    },
    "papermill": {
     "duration": 0.025484,
     "end_time": "2023-05-15T22:07:50.441991",
     "exception": false,
     "start_time": "2023-05-15T22:07:50.416507",
     "status": "completed"
    },
    "tags": []
   },
   "outputs": [],
   "source": [
    "df[\"year\"] = df.index.year\n",
    "df[\"month\"] = df.index.month\n",
    "df[\"day\"] = df.index.day\n",
    "df[\"day_of_year\"] = df.index.day_of_year\n",
    "df[\"quarter\"] = df.index.quarter"
   ]
  },
  {
   "cell_type": "code",
   "execution_count": 5,
   "id": "7f1133e7",
   "metadata": {
    "execution": {
     "iopub.execute_input": "2023-05-15T22:07:50.464327Z",
     "iopub.status.busy": "2023-05-15T22:07:50.463885Z",
     "iopub.status.idle": "2023-05-15T22:07:50.489223Z",
     "shell.execute_reply": "2023-05-15T22:07:50.488089Z"
    },
    "papermill": {
     "duration": 0.039437,
     "end_time": "2023-05-15T22:07:50.491713",
     "exception": false,
     "start_time": "2023-05-15T22:07:50.452276",
     "status": "completed"
    },
    "tags": []
   },
   "outputs": [
    {
     "data": {
      "text/html": [
       "<div>\n",
       "<style scoped>\n",
       "    .dataframe tbody tr th:only-of-type {\n",
       "        vertical-align: middle;\n",
       "    }\n",
       "\n",
       "    .dataframe tbody tr th {\n",
       "        vertical-align: top;\n",
       "    }\n",
       "\n",
       "    .dataframe thead th {\n",
       "        text-align: right;\n",
       "    }\n",
       "</style>\n",
       "<table border=\"1\" class=\"dataframe\">\n",
       "  <thead>\n",
       "    <tr style=\"text-align: right;\">\n",
       "      <th></th>\n",
       "      <th>precipitation</th>\n",
       "      <th>temp_max</th>\n",
       "      <th>temp_min</th>\n",
       "      <th>wind</th>\n",
       "      <th>weather</th>\n",
       "      <th>year</th>\n",
       "      <th>month</th>\n",
       "      <th>day</th>\n",
       "      <th>day_of_year</th>\n",
       "      <th>quarter</th>\n",
       "    </tr>\n",
       "    <tr>\n",
       "      <th>date</th>\n",
       "      <th></th>\n",
       "      <th></th>\n",
       "      <th></th>\n",
       "      <th></th>\n",
       "      <th></th>\n",
       "      <th></th>\n",
       "      <th></th>\n",
       "      <th></th>\n",
       "      <th></th>\n",
       "      <th></th>\n",
       "    </tr>\n",
       "  </thead>\n",
       "  <tbody>\n",
       "    <tr>\n",
       "      <th>2012-01-01</th>\n",
       "      <td>0.0</td>\n",
       "      <td>12.8</td>\n",
       "      <td>5.0</td>\n",
       "      <td>4.7</td>\n",
       "      <td>drizzle</td>\n",
       "      <td>2012</td>\n",
       "      <td>1</td>\n",
       "      <td>1</td>\n",
       "      <td>1</td>\n",
       "      <td>1</td>\n",
       "    </tr>\n",
       "    <tr>\n",
       "      <th>2012-01-02</th>\n",
       "      <td>10.9</td>\n",
       "      <td>10.6</td>\n",
       "      <td>2.8</td>\n",
       "      <td>4.5</td>\n",
       "      <td>rain</td>\n",
       "      <td>2012</td>\n",
       "      <td>1</td>\n",
       "      <td>2</td>\n",
       "      <td>2</td>\n",
       "      <td>1</td>\n",
       "    </tr>\n",
       "    <tr>\n",
       "      <th>2012-01-03</th>\n",
       "      <td>0.8</td>\n",
       "      <td>11.7</td>\n",
       "      <td>7.2</td>\n",
       "      <td>2.3</td>\n",
       "      <td>rain</td>\n",
       "      <td>2012</td>\n",
       "      <td>1</td>\n",
       "      <td>3</td>\n",
       "      <td>3</td>\n",
       "      <td>1</td>\n",
       "    </tr>\n",
       "    <tr>\n",
       "      <th>2012-01-04</th>\n",
       "      <td>20.3</td>\n",
       "      <td>12.2</td>\n",
       "      <td>5.6</td>\n",
       "      <td>4.7</td>\n",
       "      <td>rain</td>\n",
       "      <td>2012</td>\n",
       "      <td>1</td>\n",
       "      <td>4</td>\n",
       "      <td>4</td>\n",
       "      <td>1</td>\n",
       "    </tr>\n",
       "    <tr>\n",
       "      <th>2012-01-05</th>\n",
       "      <td>1.3</td>\n",
       "      <td>8.9</td>\n",
       "      <td>2.8</td>\n",
       "      <td>6.1</td>\n",
       "      <td>rain</td>\n",
       "      <td>2012</td>\n",
       "      <td>1</td>\n",
       "      <td>5</td>\n",
       "      <td>5</td>\n",
       "      <td>1</td>\n",
       "    </tr>\n",
       "    <tr>\n",
       "      <th>...</th>\n",
       "      <td>...</td>\n",
       "      <td>...</td>\n",
       "      <td>...</td>\n",
       "      <td>...</td>\n",
       "      <td>...</td>\n",
       "      <td>...</td>\n",
       "      <td>...</td>\n",
       "      <td>...</td>\n",
       "      <td>...</td>\n",
       "      <td>...</td>\n",
       "    </tr>\n",
       "    <tr>\n",
       "      <th>2015-12-27</th>\n",
       "      <td>8.6</td>\n",
       "      <td>4.4</td>\n",
       "      <td>1.7</td>\n",
       "      <td>2.9</td>\n",
       "      <td>rain</td>\n",
       "      <td>2015</td>\n",
       "      <td>12</td>\n",
       "      <td>27</td>\n",
       "      <td>361</td>\n",
       "      <td>4</td>\n",
       "    </tr>\n",
       "    <tr>\n",
       "      <th>2015-12-28</th>\n",
       "      <td>1.5</td>\n",
       "      <td>5.0</td>\n",
       "      <td>1.7</td>\n",
       "      <td>1.3</td>\n",
       "      <td>rain</td>\n",
       "      <td>2015</td>\n",
       "      <td>12</td>\n",
       "      <td>28</td>\n",
       "      <td>362</td>\n",
       "      <td>4</td>\n",
       "    </tr>\n",
       "    <tr>\n",
       "      <th>2015-12-29</th>\n",
       "      <td>0.0</td>\n",
       "      <td>7.2</td>\n",
       "      <td>0.6</td>\n",
       "      <td>2.6</td>\n",
       "      <td>fog</td>\n",
       "      <td>2015</td>\n",
       "      <td>12</td>\n",
       "      <td>29</td>\n",
       "      <td>363</td>\n",
       "      <td>4</td>\n",
       "    </tr>\n",
       "    <tr>\n",
       "      <th>2015-12-30</th>\n",
       "      <td>0.0</td>\n",
       "      <td>5.6</td>\n",
       "      <td>-1.0</td>\n",
       "      <td>3.4</td>\n",
       "      <td>sun</td>\n",
       "      <td>2015</td>\n",
       "      <td>12</td>\n",
       "      <td>30</td>\n",
       "      <td>364</td>\n",
       "      <td>4</td>\n",
       "    </tr>\n",
       "    <tr>\n",
       "      <th>2015-12-31</th>\n",
       "      <td>0.0</td>\n",
       "      <td>5.6</td>\n",
       "      <td>-2.1</td>\n",
       "      <td>3.5</td>\n",
       "      <td>sun</td>\n",
       "      <td>2015</td>\n",
       "      <td>12</td>\n",
       "      <td>31</td>\n",
       "      <td>365</td>\n",
       "      <td>4</td>\n",
       "    </tr>\n",
       "  </tbody>\n",
       "</table>\n",
       "<p>1461 rows × 10 columns</p>\n",
       "</div>"
      ],
      "text/plain": [
       "            precipitation  temp_max  temp_min  wind  weather  year  month  \\\n",
       "date                                                                        \n",
       "2012-01-01            0.0      12.8       5.0   4.7  drizzle  2012      1   \n",
       "2012-01-02           10.9      10.6       2.8   4.5     rain  2012      1   \n",
       "2012-01-03            0.8      11.7       7.2   2.3     rain  2012      1   \n",
       "2012-01-04           20.3      12.2       5.6   4.7     rain  2012      1   \n",
       "2012-01-05            1.3       8.9       2.8   6.1     rain  2012      1   \n",
       "...                   ...       ...       ...   ...      ...   ...    ...   \n",
       "2015-12-27            8.6       4.4       1.7   2.9     rain  2015     12   \n",
       "2015-12-28            1.5       5.0       1.7   1.3     rain  2015     12   \n",
       "2015-12-29            0.0       7.2       0.6   2.6      fog  2015     12   \n",
       "2015-12-30            0.0       5.6      -1.0   3.4      sun  2015     12   \n",
       "2015-12-31            0.0       5.6      -2.1   3.5      sun  2015     12   \n",
       "\n",
       "            day  day_of_year  quarter  \n",
       "date                                   \n",
       "2012-01-01    1            1        1  \n",
       "2012-01-02    2            2        1  \n",
       "2012-01-03    3            3        1  \n",
       "2012-01-04    4            4        1  \n",
       "2012-01-05    5            5        1  \n",
       "...         ...          ...      ...  \n",
       "2015-12-27   27          361        4  \n",
       "2015-12-28   28          362        4  \n",
       "2015-12-29   29          363        4  \n",
       "2015-12-30   30          364        4  \n",
       "2015-12-31   31          365        4  \n",
       "\n",
       "[1461 rows x 10 columns]"
      ]
     },
     "execution_count": 5,
     "metadata": {},
     "output_type": "execute_result"
    }
   ],
   "source": [
    "df"
   ]
  },
  {
   "cell_type": "markdown",
   "id": "4755f082",
   "metadata": {
    "papermill": {
     "duration": 0.01107,
     "end_time": "2023-05-15T22:07:50.514027",
     "exception": false,
     "start_time": "2023-05-15T22:07:50.502957",
     "status": "completed"
    },
    "tags": []
   },
   "source": [
    "## Countplot - Check for imbalanced data"
   ]
  },
  {
   "cell_type": "code",
   "execution_count": 6,
   "id": "560f0ae7",
   "metadata": {
    "execution": {
     "iopub.execute_input": "2023-05-15T22:07:50.538484Z",
     "iopub.status.busy": "2023-05-15T22:07:50.538028Z",
     "iopub.status.idle": "2023-05-15T22:07:50.789924Z",
     "shell.execute_reply": "2023-05-15T22:07:50.788744Z"
    },
    "papermill": {
     "duration": 0.267805,
     "end_time": "2023-05-15T22:07:50.792658",
     "exception": false,
     "start_time": "2023-05-15T22:07:50.524853",
     "status": "completed"
    },
    "tags": []
   },
   "outputs": [
    {
     "data": {
      "image/png": "[encoded data removed]",
      "text/plain": [
       "<Figure size 640x480 with 1 Axes>"
      ]
     },
     "metadata": {},
     "output_type": "display_data"
    }
   ],
   "source": [
    "sns.countplot(data=df,x=\"weather\")\n",
    "plt.show();"
   ]
  },
  {
   "cell_type": "markdown",
   "id": "38eabd63",
   "metadata": {
    "papermill": {
     "duration": 0.01076,
     "end_time": "2023-05-15T22:07:50.814413",
     "exception": false,
     "start_time": "2023-05-15T22:07:50.803653",
     "status": "completed"
    },
    "tags": []
   },
   "source": [
    "## Define data and labels"
   ]
  },
  {
   "cell_type": "code",
   "execution_count": 7,
   "id": "b787226c",
   "metadata": {
    "execution": {
     "iopub.execute_input": "2023-05-15T22:07:50.839055Z",
     "iopub.status.busy": "2023-05-15T22:07:50.838620Z",
     "iopub.status.idle": "2023-05-15T22:07:50.845020Z",
     "shell.execute_reply": "2023-05-15T22:07:50.844010Z"
    },
    "papermill": {
     "duration": 0.021976,
     "end_time": "2023-05-15T22:07:50.847509",
     "exception": false,
     "start_time": "2023-05-15T22:07:50.825533",
     "status": "completed"
    },
    "tags": []
   },
   "outputs": [],
   "source": [
    "X = df.drop(\"weather\",axis=1)\n",
    "y = df[\"weather\"]"
   ]
  },
  {
   "cell_type": "markdown",
   "id": "469cacf1",
   "metadata": {
    "papermill": {
     "duration": 0.011004,
     "end_time": "2023-05-15T22:07:50.869493",
     "exception": false,
     "start_time": "2023-05-15T22:07:50.858489",
     "status": "completed"
    },
    "tags": []
   },
   "source": [
    "## Check for Constant features"
   ]
  },
  {
   "cell_type": "code",
   "execution_count": 8,
   "id": "ce9b86e2",
   "metadata": {
    "execution": {
     "iopub.execute_input": "2023-05-15T22:07:50.893555Z",
     "iopub.status.busy": "2023-05-15T22:07:50.893123Z",
     "iopub.status.idle": "2023-05-15T22:07:50.904335Z",
     "shell.execute_reply": "2023-05-15T22:07:50.903041Z"
    },
    "papermill": {
     "duration": 0.026582,
     "end_time": "2023-05-15T22:07:50.907011",
     "exception": false,
     "start_time": "2023-05-15T22:07:50.880429",
     "status": "completed"
    },
    "tags": []
   },
   "outputs": [
    {
     "name": "stdout",
     "output_type": "stream",
     "text": [
      "Constant and Quasi-constant features: []\n"
     ]
    }
   ],
   "source": [
    "sel = VarianceThreshold(threshold=0.01)\n",
    "sel.fit(X)\n",
    "features_to_drop = X.columns[~sel.get_support()]\n",
    "print(f\"Constant and Quasi-constant features: {features_to_drop.values}\")"
   ]
  },
  {
   "cell_type": "markdown",
   "id": "ffc31332",
   "metadata": {
    "papermill": {
     "duration": 0.010829,
     "end_time": "2023-05-15T22:07:50.929104",
     "exception": false,
     "start_time": "2023-05-15T22:07:50.918275",
     "status": "completed"
    },
    "tags": []
   },
   "source": [
    "## Check for duplicated features"
   ]
  },
  {
   "cell_type": "code",
   "execution_count": 9,
   "id": "f89c92f3",
   "metadata": {
    "execution": {
     "iopub.execute_input": "2023-05-15T22:07:50.954403Z",
     "iopub.status.busy": "2023-05-15T22:07:50.954007Z",
     "iopub.status.idle": "2023-05-15T22:07:50.965727Z",
     "shell.execute_reply": "2023-05-15T22:07:50.964000Z"
    },
    "papermill": {
     "duration": 0.027938,
     "end_time": "2023-05-15T22:07:50.968679",
     "exception": false,
     "start_time": "2023-05-15T22:07:50.940741",
     "status": "completed"
    },
    "tags": []
   },
   "outputs": [
    {
     "name": "stdout",
     "output_type": "stream",
     "text": [
      "Duplicated features: []\n"
     ]
    }
   ],
   "source": [
    "duplicated_feat = []\n",
    "for i in range(0,len(X.columns)):\n",
    "\n",
    "    col_1 = X.columns[i]\n",
    "    for col_2 in X.columns[i+1:]:\n",
    "        if X[col_1].equals(X[col_2]):\n",
    "            duplicated_feat.append(col_2)\n",
    "\n",
    "print(f\"Duplicated features: {duplicated_feat}\")"
   ]
  },
  {
   "cell_type": "markdown",
   "id": "2889091f",
   "metadata": {
    "papermill": {
     "duration": 0.010975,
     "end_time": "2023-05-15T22:07:50.990959",
     "exception": false,
     "start_time": "2023-05-15T22:07:50.979984",
     "status": "completed"
    },
    "tags": []
   },
   "source": [
    "## Check for correlated features"
   ]
  },
  {
   "cell_type": "code",
   "execution_count": 10,
   "id": "c15cf19e",
   "metadata": {
    "execution": {
     "iopub.execute_input": "2023-05-15T22:07:51.016525Z",
     "iopub.status.busy": "2023-05-15T22:07:51.016122Z",
     "iopub.status.idle": "2023-05-15T22:07:51.028228Z",
     "shell.execute_reply": "2023-05-15T22:07:51.027048Z"
    },
    "papermill": {
     "duration": 0.027906,
     "end_time": "2023-05-15T22:07:51.030633",
     "exception": false,
     "start_time": "2023-05-15T22:07:51.002727",
     "status": "completed"
    },
    "tags": []
   },
   "outputs": [
    {
     "name": "stdout",
     "output_type": "stream",
     "text": [
      "Correlated Features: {'quarter', 'temp_min', 'day_of_year'}\n"
     ]
    }
   ],
   "source": [
    "def correlation(dataset, threshold=0.8):\n",
    "    col_corr = set()\n",
    "    corr_matrix = dataset.corr()\n",
    "    for i in range(len(corr_matrix.columns)):\n",
    "        for j in range(i):\n",
    "            if abs(corr_matrix.iloc[i, j]) > threshold:\n",
    "                colname = corr_matrix.columns[i]\n",
    "                col_corr.add(colname)\n",
    "    return col_corr\n",
    "\n",
    "corr_features = correlation(X,0.8)\n",
    "print(f\"Correlated Features: {corr_features}\")"
   ]
  },
  {
   "cell_type": "code",
   "execution_count": 11,
   "id": "1ee04a50",
   "metadata": {
    "execution": {
     "iopub.execute_input": "2023-05-15T22:07:51.055550Z",
     "iopub.status.busy": "2023-05-15T22:07:51.055107Z",
     "iopub.status.idle": "2023-05-15T22:07:51.073380Z",
     "shell.execute_reply": "2023-05-15T22:07:51.071892Z"
    },
    "papermill": {
     "duration": 0.033706,
     "end_time": "2023-05-15T22:07:51.075880",
     "exception": false,
     "start_time": "2023-05-15T22:07:51.042174",
     "status": "completed"
    },
    "tags": []
   },
   "outputs": [
    {
     "data": {
      "text/html": [
       "<div>\n",
       "<style scoped>\n",
       "    .dataframe tbody tr th:only-of-type {\n",
       "        vertical-align: middle;\n",
       "    }\n",
       "\n",
       "    .dataframe tbody tr th {\n",
       "        vertical-align: top;\n",
       "    }\n",
       "\n",
       "    .dataframe thead th {\n",
       "        text-align: right;\n",
       "    }\n",
       "</style>\n",
       "<table border=\"1\" class=\"dataframe\">\n",
       "  <thead>\n",
       "    <tr style=\"text-align: right;\">\n",
       "      <th></th>\n",
       "      <th>precipitation</th>\n",
       "      <th>temp_max</th>\n",
       "      <th>wind</th>\n",
       "      <th>year</th>\n",
       "      <th>month</th>\n",
       "      <th>day</th>\n",
       "    </tr>\n",
       "    <tr>\n",
       "      <th>date</th>\n",
       "      <th></th>\n",
       "      <th></th>\n",
       "      <th></th>\n",
       "      <th></th>\n",
       "      <th></th>\n",
       "      <th></th>\n",
       "    </tr>\n",
       "  </thead>\n",
       "  <tbody>\n",
       "    <tr>\n",
       "      <th>2012-01-01</th>\n",
       "      <td>0.0</td>\n",
       "      <td>12.8</td>\n",
       "      <td>4.7</td>\n",
       "      <td>2012</td>\n",
       "      <td>1</td>\n",
       "      <td>1</td>\n",
       "    </tr>\n",
       "    <tr>\n",
       "      <th>2012-01-02</th>\n",
       "      <td>10.9</td>\n",
       "      <td>10.6</td>\n",
       "      <td>4.5</td>\n",
       "      <td>2012</td>\n",
       "      <td>1</td>\n",
       "      <td>2</td>\n",
       "    </tr>\n",
       "    <tr>\n",
       "      <th>2012-01-03</th>\n",
       "      <td>0.8</td>\n",
       "      <td>11.7</td>\n",
       "      <td>2.3</td>\n",
       "      <td>2012</td>\n",
       "      <td>1</td>\n",
       "      <td>3</td>\n",
       "    </tr>\n",
       "    <tr>\n",
       "      <th>2012-01-04</th>\n",
       "      <td>20.3</td>\n",
       "      <td>12.2</td>\n",
       "      <td>4.7</td>\n",
       "      <td>2012</td>\n",
       "      <td>1</td>\n",
       "      <td>4</td>\n",
       "    </tr>\n",
       "    <tr>\n",
       "      <th>2012-01-05</th>\n",
       "      <td>1.3</td>\n",
       "      <td>8.9</td>\n",
       "      <td>6.1</td>\n",
       "      <td>2012</td>\n",
       "      <td>1</td>\n",
       "      <td>5</td>\n",
       "    </tr>\n",
       "  </tbody>\n",
       "</table>\n",
       "</div>"
      ],
      "text/plain": [
       "            precipitation  temp_max  wind  year  month  day\n",
       "date                                                       \n",
       "2012-01-01            0.0      12.8   4.7  2012      1    1\n",
       "2012-01-02           10.9      10.6   4.5  2012      1    2\n",
       "2012-01-03            0.8      11.7   2.3  2012      1    3\n",
       "2012-01-04           20.3      12.2   4.7  2012      1    4\n",
       "2012-01-05            1.3       8.9   6.1  2012      1    5"
      ]
     },
     "execution_count": 11,
     "metadata": {},
     "output_type": "execute_result"
    }
   ],
   "source": [
    "X = X.drop(corr_features,axis=1)\n",
    "X.head()"
   ]
  },
  {
   "cell_type": "markdown",
   "id": "c56ac4d1",
   "metadata": {
    "papermill": {
     "duration": 0.011104,
     "end_time": "2023-05-15T22:07:51.098570",
     "exception": false,
     "start_time": "2023-05-15T22:07:51.087466",
     "status": "completed"
    },
    "tags": []
   },
   "source": [
    "## Labelencoder"
   ]
  },
  {
   "cell_type": "code",
   "execution_count": 12,
   "id": "4725ebb7",
   "metadata": {
    "execution": {
     "iopub.execute_input": "2023-05-15T22:07:51.124081Z",
     "iopub.status.busy": "2023-05-15T22:07:51.123651Z",
     "iopub.status.idle": "2023-05-15T22:07:51.129460Z",
     "shell.execute_reply": "2023-05-15T22:07:51.128506Z"
    },
    "papermill": {
     "duration": 0.020784,
     "end_time": "2023-05-15T22:07:51.131520",
     "exception": false,
     "start_time": "2023-05-15T22:07:51.110736",
     "status": "completed"
    },
    "tags": []
   },
   "outputs": [],
   "source": [
    "le = LabelEncoder()\n",
    "y = le.fit_transform(y)"
   ]
  },
  {
   "cell_type": "markdown",
   "id": "68579511",
   "metadata": {
    "papermill": {
     "duration": 0.011411,
     "end_time": "2023-05-15T22:07:51.154530",
     "exception": false,
     "start_time": "2023-05-15T22:07:51.143119",
     "status": "completed"
    },
    "tags": []
   },
   "source": [
    "## Compute class weight"
   ]
  },
  {
   "cell_type": "code",
   "execution_count": 13,
   "id": "d68dab9b",
   "metadata": {
    "execution": {
     "iopub.execute_input": "2023-05-15T22:07:51.179688Z",
     "iopub.status.busy": "2023-05-15T22:07:51.179309Z",
     "iopub.status.idle": "2023-05-15T22:07:51.188494Z",
     "shell.execute_reply": "2023-05-15T22:07:51.187433Z"
    },
    "papermill": {
     "duration": 0.024674,
     "end_time": "2023-05-15T22:07:51.190736",
     "exception": false,
     "start_time": "2023-05-15T22:07:51.166062",
     "status": "completed"
    },
    "tags": []
   },
   "outputs": [
    {
     "data": {
      "text/plain": [
       "{0: 5.513207547169811,\n",
       " 1: 2.893069306930693,\n",
       " 2: 0.45585023400936037,\n",
       " 3: 11.238461538461538,\n",
       " 4: 0.4565625}"
      ]
     },
     "execution_count": 13,
     "metadata": {},
     "output_type": "execute_result"
    }
   ],
   "source": [
    "classes = np.unique(y)\n",
    "\n",
    "classweight = compute_class_weight(class_weight=\"balanced\",classes=classes,y=y)\n",
    "\n",
    "classweight_dict = {}\n",
    "for idx,weight in enumerate(classweight):\n",
    "    classweight_dict[idx] = weight\n",
    "\n",
    "classweight_dict"
   ]
  },
  {
   "cell_type": "markdown",
   "id": "881760a2",
   "metadata": {
    "papermill": {
     "duration": 0.011209,
     "end_time": "2023-05-15T22:07:51.213618",
     "exception": false,
     "start_time": "2023-05-15T22:07:51.202409",
     "status": "completed"
    },
    "tags": []
   },
   "source": [
    "## Split data in train and test"
   ]
  },
  {
   "cell_type": "code",
   "execution_count": 14,
   "id": "2fbc7c36",
   "metadata": {
    "execution": {
     "iopub.execute_input": "2023-05-15T22:07:51.238800Z",
     "iopub.status.busy": "2023-05-15T22:07:51.238353Z",
     "iopub.status.idle": "2023-05-15T22:07:51.249359Z",
     "shell.execute_reply": "2023-05-15T22:07:51.248185Z"
    },
    "papermill": {
     "duration": 0.026924,
     "end_time": "2023-05-15T22:07:51.252138",
     "exception": false,
     "start_time": "2023-05-15T22:07:51.225214",
     "status": "completed"
    },
    "tags": []
   },
   "outputs": [],
   "source": [
    "X_train, X_test, y_train, y_test = train_test_split(X, y, test_size=0.3, random_state=49, stratify=y)"
   ]
  },
  {
   "cell_type": "markdown",
   "id": "b48d61fb",
   "metadata": {
    "papermill": {
     "duration": 0.011362,
     "end_time": "2023-05-15T22:07:51.275121",
     "exception": false,
     "start_time": "2023-05-15T22:07:51.263759",
     "status": "completed"
    },
    "tags": []
   },
   "source": [
    "## Scale data"
   ]
  },
  {
   "cell_type": "code",
   "execution_count": 15,
   "id": "89b6c306",
   "metadata": {
    "execution": {
     "iopub.execute_input": "2023-05-15T22:07:51.300620Z",
     "iopub.status.busy": "2023-05-15T22:07:51.300190Z",
     "iopub.status.idle": "2023-05-15T22:07:51.311857Z",
     "shell.execute_reply": "2023-05-15T22:07:51.310724Z"
    },
    "papermill": {
     "duration": 0.027676,
     "end_time": "2023-05-15T22:07:51.314680",
     "exception": false,
     "start_time": "2023-05-15T22:07:51.287004",
     "status": "completed"
    },
    "tags": []
   },
   "outputs": [],
   "source": [
    "scaler = StandardScaler()\n",
    "X_train = scaler.fit_transform(X_train)\n",
    "X_test = scaler.transform(X_test)"
   ]
  },
  {
   "cell_type": "markdown",
   "id": "c277fec9",
   "metadata": {
    "papermill": {
     "duration": 0.011445,
     "end_time": "2023-05-15T22:07:51.337839",
     "exception": false,
     "start_time": "2023-05-15T22:07:51.326394",
     "status": "completed"
    },
    "tags": []
   },
   "source": [
    "## Model selection and training"
   ]
  },
  {
   "cell_type": "code",
   "execution_count": 16,
   "id": "fe293442",
   "metadata": {
    "execution": {
     "iopub.execute_input": "2023-05-15T22:07:51.363142Z",
     "iopub.status.busy": "2023-05-15T22:07:51.362696Z",
     "iopub.status.idle": "2023-05-15T22:12:47.375479Z",
     "shell.execute_reply": "2023-05-15T22:12:47.374292Z"
    },
    "papermill": {
     "duration": 296.039366,
     "end_time": "2023-05-15T22:12:47.388860",
     "exception": false,
     "start_time": "2023-05-15T22:07:51.349494",
     "status": "completed"
    },
    "tags": []
   },
   "outputs": [
    {
     "name": "stdout",
     "output_type": "stream",
     "text": [
      "Fitting 5 folds for each of 9 candidates, totalling 45 fits\n",
      "Best parameters: {'learning_rate': 0.01, 'max_depth': 2, 'n_estimators': 600, 'random_state': 49}\n"
     ]
    }
   ],
   "source": [
    "model = GradientBoostingClassifier()\n",
    "\n",
    "params = {\n",
    "    \"learning_rate\": [0.01,0.1,1],\n",
    "    \"n_estimators\": [600],\n",
    "    \"max_depth\": [2,3,5],\n",
    "#     \"class_weight\": [classweight_dict],\n",
    "    \"random_state\": [49]\n",
    "}\n",
    "\n",
    "grid = GridSearchCV(estimator=model,param_grid=params,cv=5,scoring=\"f1\",verbose=1)\n",
    "grid.fit(X_train,y_train)\n",
    "\n",
    "best_model = grid.best_estimator_\n",
    "best_params = grid.best_params_\n",
    "print(f\"Best parameters: {best_params}\")"
   ]
  },
  {
   "cell_type": "markdown",
   "id": "bd691a71",
   "metadata": {
    "papermill": {
     "duration": 0.011605,
     "end_time": "2023-05-15T22:12:47.412402",
     "exception": false,
     "start_time": "2023-05-15T22:12:47.400797",
     "status": "completed"
    },
    "tags": []
   },
   "source": [
    "## Predict on test set"
   ]
  },
  {
   "cell_type": "code",
   "execution_count": 17,
   "id": "36a2b189",
   "metadata": {
    "execution": {
     "iopub.execute_input": "2023-05-15T22:12:47.438178Z",
     "iopub.status.busy": "2023-05-15T22:12:47.437729Z",
     "iopub.status.idle": "2023-05-15T22:12:47.462177Z",
     "shell.execute_reply": "2023-05-15T22:12:47.460867Z"
    },
    "papermill": {
     "duration": 0.04052,
     "end_time": "2023-05-15T22:12:47.464796",
     "exception": false,
     "start_time": "2023-05-15T22:12:47.424276",
     "status": "completed"
    },
    "tags": []
   },
   "outputs": [],
   "source": [
    "y_pred = best_model.predict(X_test)"
   ]
  },
  {
   "cell_type": "code",
   "execution_count": 18,
   "id": "5069e6f6",
   "metadata": {
    "execution": {
     "iopub.execute_input": "2023-05-15T22:12:47.490668Z",
     "iopub.status.busy": "2023-05-15T22:12:47.490238Z",
     "iopub.status.idle": "2023-05-15T22:12:47.496286Z",
     "shell.execute_reply": "2023-05-15T22:12:47.495388Z"
    },
    "papermill": {
     "duration": 0.021765,
     "end_time": "2023-05-15T22:12:47.498593",
     "exception": false,
     "start_time": "2023-05-15T22:12:47.476828",
     "status": "completed"
    },
    "tags": []
   },
   "outputs": [],
   "source": [
    "y_pred = le.inverse_transform(y_pred)\n",
    "y_test = le.inverse_transform(y_test)"
   ]
  },
  {
   "cell_type": "markdown",
   "id": "228becf9",
   "metadata": {
    "papermill": {
     "duration": 0.011523,
     "end_time": "2023-05-15T22:12:47.522176",
     "exception": false,
     "start_time": "2023-05-15T22:12:47.510653",
     "status": "completed"
    },
    "tags": []
   },
   "source": [
    "## Check accuracy, recall, precision and F1"
   ]
  },
  {
   "cell_type": "code",
   "execution_count": 19,
   "id": "fba5f176",
   "metadata": {
    "execution": {
     "iopub.execute_input": "2023-05-15T22:12:47.548068Z",
     "iopub.status.busy": "2023-05-15T22:12:47.547449Z",
     "iopub.status.idle": "2023-05-15T22:12:47.958153Z",
     "shell.execute_reply": "2023-05-15T22:12:47.957151Z"
    },
    "papermill": {
     "duration": 0.42667,
     "end_time": "2023-05-15T22:12:47.960745",
     "exception": false,
     "start_time": "2023-05-15T22:12:47.534075",
     "status": "completed"
    },
    "tags": []
   },
   "outputs": [
    {
     "data": {
      "image/png": "[encoded data removed]",
      "text/plain": [
       "<Figure size 640x480 with 2 Axes>"
      ]
     },
     "metadata": {},
     "output_type": "display_data"
    }
   ],
   "source": [
    "ConfusionMatrixDisplay.from_predictions(y_test,y_pred);"
   ]
  },
  {
   "cell_type": "code",
   "execution_count": 20,
   "id": "4e04b55b",
   "metadata": {
    "execution": {
     "iopub.execute_input": "2023-05-15T22:12:47.988506Z",
     "iopub.status.busy": "2023-05-15T22:12:47.987631Z",
     "iopub.status.idle": "2023-05-15T22:12:48.021063Z",
     "shell.execute_reply": "2023-05-15T22:12:48.019866Z"
    },
    "papermill": {
     "duration": 0.050076,
     "end_time": "2023-05-15T22:12:48.023550",
     "exception": false,
     "start_time": "2023-05-15T22:12:47.973474",
     "status": "completed"
    },
    "tags": []
   },
   "outputs": [
    {
     "name": "stdout",
     "output_type": "stream",
     "text": [
      "              precision    recall  f1-score   support\n",
      "\n",
      "     drizzle       0.00      0.00      0.00        16\n",
      "         fog       0.89      0.27      0.41        30\n",
      "        rain       0.97      0.91      0.94       193\n",
      "        snow       0.50      0.38      0.43         8\n",
      "         sun       0.78      0.98      0.87       192\n",
      "\n",
      "    accuracy                           0.85       439\n",
      "   macro avg       0.63      0.51      0.53       439\n",
      "weighted avg       0.84      0.85      0.83       439\n",
      "\n"
     ]
    }
   ],
   "source": [
    "print(classification_report(y_test,y_pred))"
   ]
  },
  {
   "cell_type": "code",
   "execution_count": null,
   "id": "e6c407fa",
   "metadata": {
    "papermill": {
     "duration": 0.012718,
     "end_time": "2023-05-15T22:12:48.049431",
     "exception": false,
     "start_time": "2023-05-15T22:12:48.036713",
     "status": "completed"
    },
    "tags": []
   },
   "outputs": [],
   "source": []
  }
 ],
 "metadata": {
  "kernelspec": {
   "display_name": "Python 3 (ipykernel)",
   "language": "python",
   "name": "python3"
  },
  "language_info": {
   "codemirror_mode": {
    "name": "ipython",
    "version": 3
   },
   "file_extension": ".py",
   "mimetype": "text/x-python",
   "name": "python",
   "nbconvert_exporter": "python",
   "pygments_lexer": "ipython3",
   "version": "3.9.16"
  },
  "papermill": {
   "default_parameters": {},
   "duration": 314.407601,
   "end_time": "2023-05-15T22:12:49.188661",
   "environment_variables": {},
   "exception": null,
   "input_path": "__notebook__.ipynb",
   "output_path": "__notebook__.ipynb",
   "parameters": {},
   "start_time": "2023-05-15T22:07:34.781060",
   "version": "2.4.0"
  }
 },
 "nbformat": 4,
 "nbformat_minor": 5
}
